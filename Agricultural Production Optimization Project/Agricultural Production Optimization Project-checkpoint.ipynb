{
 "cells": [
  {
   "cell_type": "markdown",
   "id": "8e325511",
   "metadata": {},
   "source": [
    "# Problem statement- \n",
    "### In this project we will build a predictive model that suggest most suitable crops to grow based on available climate and soil condition  \n",
    "# Goal \n",
    "### Achieve  Precision Forming by optimizing the Agriculture production"
   ]
  },
  {
   "cell_type": "code",
   "execution_count": 1,
   "id": "5f240e3b",
   "metadata": {},
   "outputs": [],
   "source": [
    "import numpy as np\n",
    "import pandas as pd\n",
    "import matplotlib.pyplot as plt\n",
    "import seaborn as sns \n",
    "from ipywidgets import interact"
   ]
  },
  {
   "cell_type": "code",
   "execution_count": 2,
   "id": "2b0e2830",
   "metadata": {},
   "outputs": [
    {
     "name": "stdout",
     "output_type": "stream",
     "text": [
      "Dataset size is : (2200, 8)\n"
     ]
    }
   ],
   "source": [
    "dataset=pd.read_csv('Crop_recommendation.csv')\n",
    "print('Dataset size is :', dataset.shape)"
   ]
  },
  {
   "cell_type": "code",
   "execution_count": 3,
   "id": "9b6dd63a",
   "metadata": {},
   "outputs": [
    {
     "data": {
      "text/html": [
       "<div>\n",
       "<style scoped>\n",
       "    .dataframe tbody tr th:only-of-type {\n",
       "        vertical-align: middle;\n",
       "    }\n",
       "\n",
       "    .dataframe tbody tr th {\n",
       "        vertical-align: top;\n",
       "    }\n",
       "\n",
       "    .dataframe thead th {\n",
       "        text-align: right;\n",
       "    }\n",
       "</style>\n",
       "<table border=\"1\" class=\"dataframe\">\n",
       "  <thead>\n",
       "    <tr style=\"text-align: right;\">\n",
       "      <th></th>\n",
       "      <th>N</th>\n",
       "      <th>P</th>\n",
       "      <th>K</th>\n",
       "      <th>temperature</th>\n",
       "      <th>humidity</th>\n",
       "      <th>ph</th>\n",
       "      <th>rainfall</th>\n",
       "      <th>label</th>\n",
       "    </tr>\n",
       "  </thead>\n",
       "  <tbody>\n",
       "    <tr>\n",
       "      <th>0</th>\n",
       "      <td>90</td>\n",
       "      <td>42</td>\n",
       "      <td>43</td>\n",
       "      <td>20.879744</td>\n",
       "      <td>82.002744</td>\n",
       "      <td>6.502985</td>\n",
       "      <td>202.935536</td>\n",
       "      <td>rice</td>\n",
       "    </tr>\n",
       "    <tr>\n",
       "      <th>1</th>\n",
       "      <td>85</td>\n",
       "      <td>58</td>\n",
       "      <td>41</td>\n",
       "      <td>21.770462</td>\n",
       "      <td>80.319644</td>\n",
       "      <td>7.038096</td>\n",
       "      <td>226.655537</td>\n",
       "      <td>rice</td>\n",
       "    </tr>\n",
       "    <tr>\n",
       "      <th>2</th>\n",
       "      <td>60</td>\n",
       "      <td>55</td>\n",
       "      <td>44</td>\n",
       "      <td>23.004459</td>\n",
       "      <td>82.320763</td>\n",
       "      <td>7.840207</td>\n",
       "      <td>263.964248</td>\n",
       "      <td>rice</td>\n",
       "    </tr>\n",
       "    <tr>\n",
       "      <th>3</th>\n",
       "      <td>74</td>\n",
       "      <td>35</td>\n",
       "      <td>40</td>\n",
       "      <td>26.491096</td>\n",
       "      <td>80.158363</td>\n",
       "      <td>6.980401</td>\n",
       "      <td>242.864034</td>\n",
       "      <td>rice</td>\n",
       "    </tr>\n",
       "    <tr>\n",
       "      <th>4</th>\n",
       "      <td>78</td>\n",
       "      <td>42</td>\n",
       "      <td>42</td>\n",
       "      <td>20.130175</td>\n",
       "      <td>81.604873</td>\n",
       "      <td>7.628473</td>\n",
       "      <td>262.717340</td>\n",
       "      <td>rice</td>\n",
       "    </tr>\n",
       "  </tbody>\n",
       "</table>\n",
       "</div>"
      ],
      "text/plain": [
       "    N   P   K  temperature   humidity        ph    rainfall label\n",
       "0  90  42  43    20.879744  82.002744  6.502985  202.935536  rice\n",
       "1  85  58  41    21.770462  80.319644  7.038096  226.655537  rice\n",
       "2  60  55  44    23.004459  82.320763  7.840207  263.964248  rice\n",
       "3  74  35  40    26.491096  80.158363  6.980401  242.864034  rice\n",
       "4  78  42  42    20.130175  81.604873  7.628473  262.717340  rice"
      ]
     },
     "execution_count": 3,
     "metadata": {},
     "output_type": "execute_result"
    }
   ],
   "source": [
    "dataset.head()"
   ]
  },
  {
   "cell_type": "code",
   "execution_count": 4,
   "id": "d63b6afc",
   "metadata": {},
   "outputs": [
    {
     "data": {
      "text/plain": [
       "N              0\n",
       "P              0\n",
       "K              0\n",
       "temperature    0\n",
       "humidity       0\n",
       "ph             0\n",
       "rainfall       0\n",
       "label          0\n",
       "dtype: int64"
      ]
     },
     "execution_count": 4,
     "metadata": {},
     "output_type": "execute_result"
    }
   ],
   "source": [
    "dataset.isnull().sum()"
   ]
  },
  {
   "cell_type": "code",
   "execution_count": 5,
   "id": "bfa6368c",
   "metadata": {},
   "outputs": [
    {
     "data": {
      "text/plain": [
       "rice           100\n",
       "maize          100\n",
       "jute           100\n",
       "cotton         100\n",
       "coconut        100\n",
       "papaya         100\n",
       "orange         100\n",
       "apple          100\n",
       "muskmelon      100\n",
       "watermelon     100\n",
       "grapes         100\n",
       "mango          100\n",
       "banana         100\n",
       "pomegranate    100\n",
       "lentil         100\n",
       "blackgram      100\n",
       "mungbean       100\n",
       "mothbeans      100\n",
       "pigeonpeas     100\n",
       "kidneybeans    100\n",
       "chickpea       100\n",
       "coffee         100\n",
       "Name: label, dtype: int64"
      ]
     },
     "execution_count": 5,
     "metadata": {},
     "output_type": "execute_result"
    }
   ],
   "source": [
    "dataset['label'].value_counts()"
   ]
  },
  {
   "cell_type": "code",
   "execution_count": 6,
   "id": "e003ee42",
   "metadata": {},
   "outputs": [
    {
     "name": "stdout",
     "output_type": "stream",
     "text": [
      "Average Ratio of Nitrogen in the soil : 50.55\n",
      "Average Ratio of Phosphorous in the soil : 53.36\n",
      "Average Ratio of Potassium in the soil : 48.15\n",
      "Average Ratio of Temperature in the soil : 25.62\n",
      "Average Ratio of Humidity in the soil : 71.48\n",
      "Average Ratio of PH in the soil : 6.47\n",
      "Average Ratio of Rainfall in the soil : 103.46\n"
     ]
    }
   ],
   "source": [
    "print(\"Average Ratio of Nitrogen in the soil :\", '{:.2f}'.format((dataset['N'].mean())))\n",
    "print(\"Average Ratio of Phosphorous in the soil :\", '{:.2f}'.format((dataset['P'].mean())))\n",
    "print(\"Average Ratio of Potassium in the soil :\", '{:.2f}'.format((dataset['K'].mean())))\n",
    "print(\"Average Ratio of Temperature in the soil :\", '{:.2f}'.format((dataset['temperature'].mean())))\n",
    "print(\"Average Ratio of Humidity in the soil :\", '{:.2f}'.format((dataset['humidity'].mean())))\n",
    "print(\"Average Ratio of PH in the soil :\", '{:.2f}'.format((dataset['ph'].mean())))\n",
    "print(\"Average Ratio of Rainfall in the soil :\", '{:.2f}'.format((dataset['rainfall'].mean())))"
   ]
  },
  {
   "cell_type": "code",
   "execution_count": 7,
   "id": "8cce2f9a",
   "metadata": {},
   "outputs": [
    {
     "data": {
      "application/vnd.jupyter.widget-view+json": {
       "model_id": "5223321955b54fd6b57e157bbc7aa184",
       "version_major": 2,
       "version_minor": 0
      },
      "text/plain": [
       "interactive(children=(Dropdown(description='Crops', options=('rice', 'maize', 'jute', 'cotton', 'coconut', 'pa…"
      ]
     },
     "metadata": {},
     "output_type": "display_data"
    }
   ],
   "source": [
    "@interact\n",
    "def cropsummarry(Crops=list(dataset['label'].value_counts().index)):\n",
    "    x=dataset[(dataset['label']) == Crops]\n",
    "    print(\"-----------------------------------------------------\")\n",
    "    print(\"Statistics for Nitrogen\")\n",
    "    print(\"Average Nitrogen Required : \", x['N'].mean())\n",
    "    print(\"Maximum Nitrogen Required : \", x['N'].max())\n",
    "    print(\"Minimum Nitrogen Required : \", x['N'].min())\n",
    "    print(\"-----------------------------------------------------\")\n",
    "    \n",
    "    print(\"Statistics for Phosphorous\")\n",
    "    print(\"Average Phosphorous Required : \", x['P'].mean())\n",
    "    print(\"Maximum Phosphorous Required : \", x['P'].max())\n",
    "    print(\"Minimum Phosphorous Required : \", x['P'].min())\n",
    "    print(\"-----------------------------------------------------\")\n",
    "    \n",
    "    print(\"Statistics for Potassium\")\n",
    "    print(\"Average  Potassium Required : \", x['K'].mean())\n",
    "    print(\"Maximum Potassium Required : \", x['K'].max())\n",
    "    print(\"Minimum Potassium Required : \", x['K'].min())\n",
    "    print(\"-----------------------------------------------------\")\n",
    "    \n",
    "    print(\"Statistics for temperature\")\n",
    "    print(\"Average temperature Required : \", x['temperature'].mean())\n",
    "    print(\"Maximum temperature Required : \", x['temperature'].max())\n",
    "    print(\"Minimum temperature Required : \", x['temperature'].min())\n",
    "    print(\"-----------------------------------------------------\")\n",
    "    \n",
    "    print(\"Statistics for humidity\")\n",
    "    print(\"Average humidity Required : \", x['humidity'].mean())\n",
    "    print(\"Maximum humidity Required : \", x['humidity'].max())\n",
    "    print(\"Minimum humidity Required : \", x['humidity'].min())\n",
    "    print(\"-----------------------------------------------------\")\n",
    "    \n",
    "    print(\"Statistics for ph\")\n",
    "    print(\"Average ph Required : \", x['ph'].mean())\n",
    "    print(\"Maximum ph Required : \", x['ph'].max())\n",
    "    print(\"Minimum ph Required : \", x['ph'].min())\n",
    "    print(\"-----------------------------------------------------\")\n",
    "    \n",
    "    \n",
    "    print(\"Statistics for rainfall\")\n",
    "    print(\"Average rainfall Required : \", x['rainfall'].mean())\n",
    "    print(\"Maximum rainfall Required : \", x['rainfall'].max())\n",
    "    print(\"Minimum rainfall Required : \", x['rainfall'].min())\n",
    "    print(\"-----------------------------------------------------\")\n",
    "\n",
    "    "
   ]
  },
  {
   "cell_type": "code",
   "execution_count": 8,
   "id": "190ec980",
   "metadata": {},
   "outputs": [
    {
     "data": {
      "application/vnd.jupyter.widget-view+json": {
       "model_id": "43a180a5f1284352af2c031ffbbfe2b3",
       "version_major": 2,
       "version_minor": 0
      },
      "text/plain": [
       "interactive(children=(Dropdown(description='Conditions', options=('N', 'P', 'K', 'temperature', 'ph', 'humidty…"
      ]
     },
     "metadata": {},
     "output_type": "display_data"
    }
   ],
   "source": [
    "@interact\n",
    "def cropcompare(Conditions =['N','P','K','temperature','ph','humidty','rainfall']):\n",
    "    print(\"Average Value for \", Conditions, \"is {0:.2f}\".format(dataset[Conditions].mean()))\n",
    "    print(\"--------------------------------------------------------------\")\n",
    "    print(\"Rice : {0:.2f}\".format(dataset[(dataset['label']=='rice')][Conditions].mean()))\n",
    "    print(\"Maize: {0:.2f}\".format(dataset[(dataset['label']=='maize')][Conditions].mean()))\n",
    "    print(\"Jute : {0:.2f}\".format(dataset[(dataset['label']=='jute')][Conditions].mean()))\n",
    "    print(\"Cotton: {0:.2f}\".format(dataset[(dataset['label']=='cotton')][Conditions].mean()))\n",
    "    print(\"Coconut : {0:.2f}\".format(dataset[(dataset['label']=='coconut')][Conditions].mean()))\n",
    "    print(\"Papaya : {0:.2f}\".format(dataset[(dataset['label']=='papaya')][Conditions].mean()))\n",
    "    print(\"Orange : {0:.2f}\".format(dataset[(dataset['label']=='orange')][Conditions].mean()))\n",
    "    print(\"Apple : {0:.2f}\".format(dataset[(dataset['label']=='apple')][Conditions].mean()))\n",
    "    print(\"Muskmelon : {0:.2f}\".format(dataset[(dataset['label']=='muskmelon')][Conditions].mean()))\n",
    "    print(\"Watermelon : {0:.2f}\".format(dataset[(dataset['label']=='watermelon')][Conditions].mean()))\n",
    "    print(\"Grapes : {0:.2f}\".format(dataset[(dataset['label']=='grapes')][Conditions].mean()))\n",
    "    print(\"Mango : {0:.2f}\".format(dataset[(dataset['label']=='mango')][Conditions].mean()))\n",
    "    print(\"Banana  : {0:.2f}\".format(dataset[(dataset['label']=='banana ')][Conditions].mean()))\n",
    "    print(\"Pomegranate : {0:.2f}\".format(dataset[(dataset['label']=='pomegranate')][Conditions].mean()))\n",
    "    print(\"Lentil : {0:.2f}\".format(dataset[(dataset['label']=='lentil')][Conditions].mean()))\n",
    "    print(\"Blackgram : {0:.2f}\".format(dataset[(dataset['label']=='blackgram')][Conditions].mean()))\n",
    "    print(\"Mungbean : {0:.2f}\".format(dataset[(dataset['label']=='mungbean')][Conditions].mean()))\n",
    "    print(\"Mothbeans : {0:.2f}\".format(dataset[(dataset['label']=='mothbeans')][Conditions].mean()))\n",
    "    print(\"Pigeonpeas : {0:.2f}\".format(dataset[(dataset['label']=='pigeonpeas')][Conditions].mean()))\n",
    "    print(\"Kidneybeans : {0:.2f}\".format(dataset[(dataset['label']=='kidneybeans')][Conditions].mean()))\n",
    "    print(\"Chickpea : {0:.2f}\".format(dataset[(dataset['label']=='chickpea')][Conditions].mean()))\n",
    "    print(\"Coffee : {0:.2f}\".format(dataset[(dataset['label']=='coffee')][Conditions].mean()))\n",
    "   \n",
    "\n"
   ]
  },
  {
   "cell_type": "code",
   "execution_count": 10,
   "id": "f8c5ffef",
   "metadata": {},
   "outputs": [
    {
     "data": {
      "application/vnd.jupyter.widget-view+json": {
       "model_id": "9e7a6583e7f94c3e8664c60a5ba305b0",
       "version_major": 2,
       "version_minor": 0
      },
      "text/plain": [
       "interactive(children=(Dropdown(description='Conditions', options=('N', 'P', 'K', 'temperature', 'ph', 'humidty…"
      ]
     },
     "metadata": {},
     "output_type": "display_data"
    }
   ],
   "source": [
    "@interact\n",
    "def cropcompare1(Conditions =['N','P','K','temperature','ph','humidty','rainfall']):\n",
    "    print('Crops which require greater than average' , Conditions, '\\n')\n",
    "    print(dataset[dataset[Conditions]>dataset[Conditions].mean()]['label'].unique())\n",
    "    print(\"------------------------------------------\")\n",
    "    print('Crops which require less than average' , Conditions, '\\n')\n",
    "    print(dataset[dataset[Conditions]<=dataset[Conditions].mean()]['label'].unique())"
   ]
  },
  {
   "cell_type": "code",
   "execution_count": 11,
   "id": "bcce0724",
   "metadata": {
    "scrolled": true
   },
   "outputs": [
    {
     "name": "stderr",
     "output_type": "stream",
     "text": [
      "S:\\Python\\lib\\site-packages\\seaborn\\distributions.py:2619: FutureWarning: `distplot` is a deprecated function and will be removed in a future version. Please adapt your code to use either `displot` (a figure-level function with similar flexibility) or `histplot` (an axes-level function for histograms).\n",
      "  warnings.warn(msg, FutureWarning)\n",
      "S:\\Python\\lib\\site-packages\\seaborn\\distributions.py:2619: FutureWarning: `distplot` is a deprecated function and will be removed in a future version. Please adapt your code to use either `displot` (a figure-level function with similar flexibility) or `histplot` (an axes-level function for histograms).\n",
      "  warnings.warn(msg, FutureWarning)\n",
      "S:\\Python\\lib\\site-packages\\seaborn\\distributions.py:2619: FutureWarning: `distplot` is a deprecated function and will be removed in a future version. Please adapt your code to use either `displot` (a figure-level function with similar flexibility) or `histplot` (an axes-level function for histograms).\n",
      "  warnings.warn(msg, FutureWarning)\n",
      "S:\\Python\\lib\\site-packages\\seaborn\\distributions.py:2619: FutureWarning: `distplot` is a deprecated function and will be removed in a future version. Please adapt your code to use either `displot` (a figure-level function with similar flexibility) or `histplot` (an axes-level function for histograms).\n",
      "  warnings.warn(msg, FutureWarning)\n",
      "S:\\Python\\lib\\site-packages\\seaborn\\distributions.py:2619: FutureWarning: `distplot` is a deprecated function and will be removed in a future version. Please adapt your code to use either `displot` (a figure-level function with similar flexibility) or `histplot` (an axes-level function for histograms).\n",
      "  warnings.warn(msg, FutureWarning)\n",
      "S:\\Python\\lib\\site-packages\\seaborn\\distributions.py:2619: FutureWarning: `distplot` is a deprecated function and will be removed in a future version. Please adapt your code to use either `displot` (a figure-level function with similar flexibility) or `histplot` (an axes-level function for histograms).\n",
      "  warnings.warn(msg, FutureWarning)\n",
      "S:\\Python\\lib\\site-packages\\seaborn\\distributions.py:2619: FutureWarning: `distplot` is a deprecated function and will be removed in a future version. Please adapt your code to use either `displot` (a figure-level function with similar flexibility) or `histplot` (an axes-level function for histograms).\n",
      "  warnings.warn(msg, FutureWarning)\n"
     ]
    },
    {
     "data": {
      "image/png": "[encoded data removed]",
      "text/plain": [
       "<Figure size 432x288 with 7 Axes>"
      ]
     },
     "metadata": {
      "needs_background": "light"
     },
     "output_type": "display_data"
    }
   ],
   "source": [
    "\n",
    "plt.subplot(2,4,1)\n",
    "sns.distplot(dataset['N'], color='darkblue')\n",
    "plt.xlabel(\"Ratio of Nitrogen\", fontsize=12)\n",
    "plt.grid()\n",
    "\n",
    "\n",
    "plt.subplot(2,4,2)\n",
    "sns.distplot(dataset['P'], color='red')\n",
    "plt.xlabel(\"Ratio of Phosphorous\", fontsize=12)\n",
    "plt.grid()\n",
    "\n",
    "\n",
    "plt.subplot(2,4,3)\n",
    "sns.distplot(dataset['K'], color='grey')\n",
    "plt.xlabel(\"Ratio of Potassium\", fontsize=12)\n",
    "plt.grid()\n",
    "\n",
    "\n",
    "plt.subplot(2,4,4)\n",
    "sns.distplot(dataset['temperature'], color='darkred')\n",
    "plt.xlabel(\"Ratio of Temperature\", fontsize=12)\n",
    "plt.grid()\n",
    "\n",
    "\n",
    "plt.subplot(2,4,5)\n",
    "sns.distplot(dataset['rainfall'], color='green')\n",
    "plt.xlabel(\"Ratio of Rainfall\", fontsize=12)\n",
    "plt.grid()\n",
    "\n",
    "\n",
    "plt.subplot(2,4,6)\n",
    "sns.distplot(dataset['humidity'], color='lightblue')\n",
    "plt.xlabel(\"Ratio of Humidity\", fontsize=12)\n",
    "plt.grid()\n",
    "\n",
    "\n",
    "plt.subplot(2,4,7)\n",
    "sns.distplot(dataset['ph'], color='black')\n",
    "plt.xlabel(\"Ratio of PH\", fontsize=12)\n",
    "plt.grid()\n",
    "\n",
    "plt.subplots_adjust(left=.5, bottom=1, right=1.6, top=2, wspace=1,hspace=1)\n",
    "\n",
    "plt.suptitle('Distribution for Agriculture Conditions',x=1, y=2.2, fontsize=20)\n",
    "plt.show()\n",
    "\n",
    "\n"
   ]
  },
  {
   "cell_type": "code",
   "execution_count": 12,
   "id": "23fad64a",
   "metadata": {},
   "outputs": [
    {
     "name": "stdout",
     "output_type": "stream",
     "text": [
      "Some Intresting Patterns\n",
      "---------------------------\n",
      "crops which requires very high ratio of Nitrogen Content in soil: ['cotton']\n",
      "crops which requires very high ratio of Phosphorous Content in soil: ['grapes' 'apple']\n",
      "crops which requires very high ratio of Potassium Content in soil: ['grapes' 'apple']\n",
      "crops which requires very high Rainfall: ['rice' 'papaya' 'coconut']\n",
      "crops which requires very high Temperature: ['grapes' 'papaya']\n",
      "crops which requires very low Temperature: ['grapes']\n",
      "crops which requires very low Humidity: ['chickpea' 'kidneybeans']\n",
      "crops which requires very high PH: ['mothbeans']\n",
      "crops which requires very low PH: ['mothbeans']\n"
     ]
    }
   ],
   "source": [
    "print(\"Some Intresting Patterns\")\n",
    "print(\"---------------------------\")\n",
    "print(\"crops which requires very high ratio of Nitrogen Content in soil:\", dataset[dataset['N']>120]['label'].unique())\n",
    "print(\"crops which requires very high ratio of Phosphorous Content in soil:\", dataset[dataset['P']>100]['label'].unique())\n",
    "print(\"crops which requires very high ratio of Potassium Content in soil:\", dataset[dataset['K']>200]['label'].unique())\n",
    "print(\"crops which requires very high Rainfall:\", dataset[dataset['rainfall']>200]['label'].unique())\n",
    "print(\"crops which requires very high Temperature:\", dataset[dataset['temperature']>40]['label'].unique())\n",
    "print(\"crops which requires very low Temperature:\", dataset[dataset['temperature']<10]['label'].unique())\n",
    "print(\"crops which requires very low Humidity:\", dataset[dataset['humidity']<20]['label'].unique())\n",
    "print(\"crops which requires very high PH:\", dataset[dataset['ph']>9]['label'].unique())\n",
    "print(\"crops which requires very low PH:\", dataset[dataset['ph']<4]['label'].unique())"
   ]
  },
  {
   "cell_type": "code",
   "execution_count": 13,
   "id": "d5d753be",
   "metadata": {},
   "outputs": [
    {
     "name": "stdout",
     "output_type": "stream",
     "text": [
      "Summer Crops\n",
      "['pigeonpeas' 'mothbeans' 'blackgram' 'mango' 'grapes' 'orange' 'papaya']\n",
      "-------------------------------------------------\n",
      "Winter Crops\n",
      "['maize' 'pigeonpeas' 'lentil' 'pomegranate' 'grapes' 'orange']\n",
      "-------------------------------------------------\n",
      "Rainy Crops\n",
      "['rice' 'papaya' 'coconut']\n",
      "-------------------------------------------------\n"
     ]
    }
   ],
   "source": [
    "print(\"Summer Crops\")\n",
    "print(dataset[(dataset['temperature']> 30) & (dataset['humidity'] > 50)]['label'].unique())\n",
    "print('-------------------------------------------------')\n",
    "print(\"Winter Crops\")\n",
    "print(dataset[(dataset['temperature']< 20) & (dataset['humidity'] > 25)]['label'].unique())\n",
    "print('-------------------------------------------------')\n",
    "print(\"Rainy Crops\")\n",
    "print(dataset[(dataset['rainfall']> 200) & (dataset['humidity'] > 25)]['label'].unique())\n",
    "print('-------------------------------------------------')\n",
    "              "
   ]
  },
  {
   "cell_type": "code",
   "execution_count": 14,
   "id": "002418c9",
   "metadata": {},
   "outputs": [
    {
     "name": "stdout",
     "output_type": "stream",
     "text": [
      "[[ 90.          42.          43.         ...  82.00274423   6.50298529\n",
      "  202.9355362 ]\n",
      " [ 85.          58.          41.         ...  80.31964408   7.03809636\n",
      "  226.6555374 ]\n",
      " [ 60.          55.          44.         ...  82.3207629    7.84020714\n",
      "  263.9642476 ]\n",
      " ...\n",
      " [118.          33.          30.         ...  67.22512329   6.36260785\n",
      "  173.3228386 ]\n",
      " [117.          32.          34.         ...  52.12739421   6.75879255\n",
      "  127.1752928 ]\n",
      " [104.          18.          30.         ...  60.39647474   6.77983261\n",
      "  140.9370415 ]]\n"
     ]
    },
    {
     "data": {
      "text/plain": [
       "dtype('float64')"
      ]
     },
     "execution_count": 14,
     "metadata": {},
     "output_type": "execute_result"
    }
   ],
   "source": [
    "from sklearn.cluster import KMeans\n",
    " #remove labels from column\n",
    "x=dataset.drop(['label'],axis=1)\n",
    "#select all values of dataset\n",
    "x=x.values\n",
    "#checking shape\n",
    "\n",
    "print(x)\n",
    "x.dtype"
   ]
  },
  {
   "cell_type": "code",
   "execution_count": 15,
   "id": "29199159",
   "metadata": {},
   "outputs": [
    {
     "data": {
      "image/png": "[encoded data removed]",
      "text/plain": [
       "<Figure size 720x288 with 1 Axes>"
      ]
     },
     "metadata": {
      "needs_background": "light"
     },
     "output_type": "display_data"
    }
   ],
   "source": [
    "# Using elbow methode define clusters with in dataset\n",
    "plt.rcParams['figure.figsize']=(10,4)\n",
    "\n",
    "wcss=[]\n",
    "for i in range(1,11):\n",
    "    km=KMeans(n_clusters=i, init=\"k-means++\",max_iter = 300, n_init=10,random_state=0)\n",
    "    km.fit(x)\n",
    "    wcss.append(km.inertia_)\n",
    "#plot result\n",
    "plt.plot(range(1,11),wcss)\n",
    "plt.title('Elbow-Method', fontsize=20)\n",
    "plt.xlabel('number of cluster')\n",
    "plt.ylabel(\"wcss\")\n",
    "plt.show()"
   ]
  },
  {
   "cell_type": "code",
   "execution_count": null,
   "id": "ecd75d2d",
   "metadata": {},
   "outputs": [],
   "source": []
  },
  {
   "cell_type": "code",
   "execution_count": 16,
   "id": "781cf432",
   "metadata": {},
   "outputs": [
    {
     "name": "stdout",
     "output_type": "stream",
     "text": [
      "Let check result after applying K Means clustering Analysis \n",
      "\n",
      "Crops in 1st cluster: ['maize' 'chickpea' 'kidneybeans' 'pigeonpeas' 'mothbeans' 'mungbean'\n",
      " 'blackgram' 'lentil' 'pomegranate' 'mango' 'orange' 'papaya' 'coconut']\n",
      "--------------------------------------------------------------\n",
      "Crops in 2nd cluster: ['maize' 'banana' 'watermelon' 'muskmelon' 'papaya' 'cotton' 'coffee']\n",
      "--------------------------------------------------------------\n",
      "Crops in 3rd cluster: ['grapes' 'apple']\n",
      "--------------------------------------------------------------\n",
      "Crops in 4th cluster: ['rice' 'pigeonpeas' 'papaya' 'coconut' 'jute' 'coffee']\n",
      "--------------------------------------------------------------\n"
     ]
    }
   ],
   "source": [
    "#implement of K Means Algorithm\n",
    "km=KMeans(n_clusters=4, init='k-means++', max_iter =300,n_init = 10,random_state=0)\n",
    "y_means = km.fit_predict(x)\n",
    "\n",
    "#find out result\n",
    "a=dataset['label']\n",
    "y_means= pd.DataFrame(y_means)\n",
    "z=pd.concat([y_means,a],axis=1)\n",
    "z=z.rename(columns={0:\"cluster\"})\n",
    "\n",
    "#check the clusters of each crops\n",
    "print(\"Let check result after applying K Means clustering Analysis \\n\")\n",
    "print(\"Crops in 1st cluster:\",z[z['cluster']==0][\"label\"].unique())\n",
    "print(\"--------------------------------------------------------------\")\n",
    "print(\"Crops in 2nd cluster:\",z[z['cluster']==1][\"label\"].unique())\n",
    "print(\"--------------------------------------------------------------\")\n",
    "print(\"Crops in 3rd cluster:\",z[z['cluster']==2][\"label\"].unique())\n",
    "print(\"--------------------------------------------------------------\")\n",
    "print(\"Crops in 4th cluster:\",z[z['cluster']==3][\"label\"].unique())\n",
    "print(\"--------------------------------------------------------------\")\n"
   ]
  },
  {
   "cell_type": "code",
   "execution_count": 17,
   "id": "f3a5ddd4",
   "metadata": {},
   "outputs": [
    {
     "name": "stdout",
     "output_type": "stream",
     "text": [
      "Shape of x (2200, 7)\n",
      "Shape of y (2200,)\n"
     ]
    }
   ],
   "source": [
    "#split dataset for  predicting modeling\n",
    "y= dataset[\"label\"]\n",
    "x=dataset.drop(['label'],axis=1)\n",
    "print('Shape of x', x.shape)\n",
    "print('Shape of y', y.shape)"
   ]
  },
  {
   "cell_type": "code",
   "execution_count": 18,
   "id": "cecceb13",
   "metadata": {},
   "outputs": [
    {
     "name": "stdout",
     "output_type": "stream",
     "text": [
      "shape of x_train (1870, 7)\n",
      "shape of x_test (330, 7)\n",
      "shape of y_train (1870,)\n",
      "shape of y_test (330,)\n"
     ]
    }
   ],
   "source": [
    "#create training and testing set for validation of result\n",
    "from sklearn.model_selection import train_test_split\n",
    "x_train,x_test,y_train,y_test=train_test_split(x,y,test_size=0.15,random_state=0)\n",
    "\n",
    "print('shape of x_train', x_train.shape)\n",
    "print('shape of x_test', x_test.shape)\n",
    "print('shape of y_train', y_train.shape)\n",
    "print('shape of y_test', y_test.shape)"
   ]
  },
  {
   "cell_type": "code",
   "execution_count": 19,
   "id": "c6a6a04f",
   "metadata": {},
   "outputs": [
    {
     "name": "stderr",
     "output_type": "stream",
     "text": [
      "S:\\Python\\lib\\site-packages\\sklearn\\linear_model\\_logistic.py:444: ConvergenceWarning: lbfgs failed to converge (status=1):\n",
      "STOP: TOTAL NO. of ITERATIONS REACHED LIMIT.\n",
      "\n",
      "Increase the number of iterations (max_iter) or scale the data as shown in:\n",
      "    https://scikit-learn.org/stable/modules/preprocessing.html\n",
      "Please also refer to the documentation for alternative solver options:\n",
      "    https://scikit-learn.org/stable/modules/linear_model.html#logistic-regression\n",
      "  n_iter_i = _check_optimize_result(\n"
     ]
    }
   ],
   "source": [
    "from sklearn.linear_model import LogisticRegression\n",
    "model = LogisticRegression(solver='lbfgs', max_iter=3000)\n",
    "model.fit(x_train, y_train)\n",
    "y_pred = model.predict(x_test)"
   ]
  },
  {
   "cell_type": "code",
   "execution_count": 20,
   "id": "49bf4eb6",
   "metadata": {},
   "outputs": [
    {
     "data": {
      "image/png": "[encoded data removed]",
      "text/plain": [
       "<Figure size 720x720 with 2 Axes>"
      ]
     },
     "metadata": {
      "needs_background": "light"
     },
     "output_type": "display_data"
    }
   ],
   "source": [
    "#evalute model performance\n",
    "from sklearn.metrics import confusion_matrix\n",
    "#let print  the confusion matrix\n",
    "plt.rcParams['figure.figsize'] = (10,10)\n",
    "cm = confusion_matrix(y_test,y_pred)\n",
    "sns.heatmap(cm,annot = True, cmap = \"Wistia\")\n",
    "plt.title(\"Confusion Matrix for Logistic Regression\", fontsize = 15)\n",
    "plt.show()"
   ]
  },
  {
   "cell_type": "code",
   "execution_count": 21,
   "id": "ce09bcdd",
   "metadata": {},
   "outputs": [
    {
     "name": "stdout",
     "output_type": "stream",
     "text": [
      "              precision    recall  f1-score   support\n",
      "\n",
      "       apple       1.00      1.00      1.00        10\n",
      "      banana       1.00      1.00      1.00        10\n",
      "   blackgram       1.00      1.00      1.00        18\n",
      "    chickpea       1.00      1.00      1.00        17\n",
      "     coconut       1.00      1.00      1.00        12\n",
      "      coffee       1.00      1.00      1.00        16\n",
      "      cotton       1.00      1.00      1.00         9\n",
      "      grapes       1.00      1.00      1.00        12\n",
      "        jute       0.84      1.00      0.91        16\n",
      " kidneybeans       1.00      1.00      1.00        14\n",
      "      lentil       1.00      1.00      1.00        13\n",
      "       maize       1.00      1.00      1.00        15\n",
      "       mango       1.00      1.00      1.00        17\n",
      "   mothbeans       1.00      1.00      1.00        20\n",
      "    mungbean       1.00      1.00      1.00        16\n",
      "   muskmelon       1.00      1.00      1.00        16\n",
      "      orange       1.00      1.00      1.00        18\n",
      "      papaya       1.00      1.00      1.00        16\n",
      "  pigeonpeas       1.00      1.00      1.00        16\n",
      " pomegranate       1.00      1.00      1.00        18\n",
      "        rice       1.00      0.83      0.91        18\n",
      "  watermelon       1.00      1.00      1.00        13\n",
      "\n",
      "    accuracy                           0.99       330\n",
      "   macro avg       0.99      0.99      0.99       330\n",
      "weighted avg       0.99      0.99      0.99       330\n",
      "\n"
     ]
    }
   ],
   "source": [
    "from sklearn.metrics import classification_report\n",
    "cr=classification_report(y_test,y_pred)\n",
    "print(cr)"
   ]
  },
  {
   "cell_type": "code",
   "execution_count": 22,
   "id": "9a18c755",
   "metadata": {},
   "outputs": [
    {
     "data": {
      "text/html": [
       "<div>\n",
       "<style scoped>\n",
       "    .dataframe tbody tr th:only-of-type {\n",
       "        vertical-align: middle;\n",
       "    }\n",
       "\n",
       "    .dataframe tbody tr th {\n",
       "        vertical-align: top;\n",
       "    }\n",
       "\n",
       "    .dataframe thead th {\n",
       "        text-align: right;\n",
       "    }\n",
       "</style>\n",
       "<table border=\"1\" class=\"dataframe\">\n",
       "  <thead>\n",
       "    <tr style=\"text-align: right;\">\n",
       "      <th></th>\n",
       "      <th>N</th>\n",
       "      <th>P</th>\n",
       "      <th>K</th>\n",
       "      <th>temperature</th>\n",
       "      <th>humidity</th>\n",
       "      <th>ph</th>\n",
       "      <th>rainfall</th>\n",
       "      <th>label</th>\n",
       "    </tr>\n",
       "  </thead>\n",
       "  <tbody>\n",
       "    <tr>\n",
       "      <th>0</th>\n",
       "      <td>90</td>\n",
       "      <td>42</td>\n",
       "      <td>43</td>\n",
       "      <td>20.879744</td>\n",
       "      <td>82.002744</td>\n",
       "      <td>6.502985</td>\n",
       "      <td>202.935536</td>\n",
       "      <td>rice</td>\n",
       "    </tr>\n",
       "    <tr>\n",
       "      <th>1</th>\n",
       "      <td>85</td>\n",
       "      <td>58</td>\n",
       "      <td>41</td>\n",
       "      <td>21.770462</td>\n",
       "      <td>80.319644</td>\n",
       "      <td>7.038096</td>\n",
       "      <td>226.655537</td>\n",
       "      <td>rice</td>\n",
       "    </tr>\n",
       "    <tr>\n",
       "      <th>2</th>\n",
       "      <td>60</td>\n",
       "      <td>55</td>\n",
       "      <td>44</td>\n",
       "      <td>23.004459</td>\n",
       "      <td>82.320763</td>\n",
       "      <td>7.840207</td>\n",
       "      <td>263.964248</td>\n",
       "      <td>rice</td>\n",
       "    </tr>\n",
       "    <tr>\n",
       "      <th>3</th>\n",
       "      <td>74</td>\n",
       "      <td>35</td>\n",
       "      <td>40</td>\n",
       "      <td>26.491096</td>\n",
       "      <td>80.158363</td>\n",
       "      <td>6.980401</td>\n",
       "      <td>242.864034</td>\n",
       "      <td>rice</td>\n",
       "    </tr>\n",
       "    <tr>\n",
       "      <th>4</th>\n",
       "      <td>78</td>\n",
       "      <td>42</td>\n",
       "      <td>42</td>\n",
       "      <td>20.130175</td>\n",
       "      <td>81.604873</td>\n",
       "      <td>7.628473</td>\n",
       "      <td>262.717340</td>\n",
       "      <td>rice</td>\n",
       "    </tr>\n",
       "  </tbody>\n",
       "</table>\n",
       "</div>"
      ],
      "text/plain": [
       "    N   P   K  temperature   humidity        ph    rainfall label\n",
       "0  90  42  43    20.879744  82.002744  6.502985  202.935536  rice\n",
       "1  85  58  41    21.770462  80.319644  7.038096  226.655537  rice\n",
       "2  60  55  44    23.004459  82.320763  7.840207  263.964248  rice\n",
       "3  74  35  40    26.491096  80.158363  6.980401  242.864034  rice\n",
       "4  78  42  42    20.130175  81.604873  7.628473  262.717340  rice"
      ]
     },
     "execution_count": 22,
     "metadata": {},
     "output_type": "execute_result"
    }
   ],
   "source": [
    "#crosscheck for some value\n",
    "dataset.head()"
   ]
  },
  {
   "cell_type": "code",
   "execution_count": 23,
   "id": "f0381c33",
   "metadata": {},
   "outputs": [
    {
     "name": "stdout",
     "output_type": "stream",
     "text": [
      "The suggested crop for the given Climate Condition is  ['rice']\n"
     ]
    },
    {
     "name": "stderr",
     "output_type": "stream",
     "text": [
      "S:\\Python\\lib\\site-packages\\sklearn\\base.py:450: UserWarning: X does not have valid feature names, but LogisticRegression was fitted with feature names\n",
      "  warnings.warn(\n"
     ]
    }
   ],
   "source": [
    "prediction=model.predict((np.array([[90,40,40,20,80,7,200]])))\n",
    "print(\"The suggested crop for the given Climate Condition is \", prediction)"
   ]
  },
  {
   "cell_type": "code",
   "execution_count": null,
   "id": "f744c218",
   "metadata": {},
   "outputs": [],
   "source": []
  }
 ],
 "metadata": {
  "kernelspec": {
   "display_name": "Python 3 (ipykernel)",
   "language": "python",
   "name": "python3"
  },
  "language_info": {
   "codemirror_mode": {
    "name": "ipython",
    "version": 3
   },
   "file_extension": ".py",
   "mimetype": "text/x-python",
   "name": "python",
   "nbconvert_exporter": "python",
   "pygments_lexer": "ipython3",
   "version": "3.9.7"
  }
 },
 "nbformat": 4,
 "nbformat_minor": 5
}
